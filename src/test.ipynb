{
 "cells": [
  {
   "cell_type": "code",
   "execution_count": 1,
   "metadata": {
    "collapsed": true,
    "pycharm": {
     "name": "#%%\n"
    }
   },
   "outputs": [],
   "source": [
    "from typing import Any\n",
    "import pandas as pd\n",
    "from sklearn.model_selection import train_test_split\n",
    "from sklift.datasets import fetch_hillstrom\n",
    "from sklift.metrics import uplift_at_k\n",
    "from sklift.viz import plot_uplift_preds\n",
    "from sklift.models import SoloModel\n",
    "from catboost import CatBoostClassifier\n",
    "from category_encoders import CatBoostEncoder"
   ]
  },
  {
   "cell_type": "code",
   "execution_count": 2,
   "outputs": [
    {
     "data": {
      "text/plain": "{'new_filter': 'filter'}"
     },
     "execution_count": 2,
     "metadata": {},
     "output_type": "execute_result"
    }
   ],
   "source": [
    "filters = {}\n",
    "filters['new_filter'] = 'filter'\n",
    "filters"
   ],
   "metadata": {
    "collapsed": false,
    "pycharm": {
     "name": "#%%\n"
    }
   }
  },
  {
   "cell_type": "code",
   "execution_count": 115,
   "outputs": [],
   "source": [
    "def get_data() -> tuple[Any, Any, Any]:\n",
    "\t# получаем датасет\n",
    "\tdataset = fetch_hillstrom(target_col='visit')\n",
    "\tdataset, target, treatment = dataset['data'], dataset['target'], dataset['treatment']\n",
    "\t# выбираем два сегмента\n",
    "\tdataset = dataset[treatment != 'Mens E-Mail']\n",
    "\ttarget = target[treatment != 'Mens E-Mail']\n",
    "\ttreatment = treatment[treatment != 'Mens E-Mail'].map({\n",
    "\t\t'Womens E-Mail': 1,\n",
    "\t\t'No E-Mail':     0\n",
    "\t})\n",
    "\n",
    "\treturn dataset, target, treatment"
   ],
   "metadata": {
    "collapsed": false,
    "pycharm": {
     "name": "#%%\n"
    }
   }
  },
  {
   "cell_type": "code",
   "execution_count": 116,
   "outputs": [],
   "source": [
    "data, target, treatment = get_data()"
   ],
   "metadata": {
    "collapsed": false,
    "pycharm": {
     "name": "#%%\n"
    }
   }
  },
  {
   "cell_type": "code",
   "execution_count": 117,
   "outputs": [],
   "source": [
    "X_train, X_val, y_train, y_val, trmnt_train, trmnt_val = train_test_split(\n",
    "    data, target, treatment, test_size=0.5, random_state=42\n",
    ")\n",
    "\n",
    "models_results = {\n",
    "    'approach': [],\n",
    "    'uplift@30%': []\n",
    "}"
   ],
   "metadata": {
    "collapsed": false,
    "pycharm": {
     "name": "#%%\n"
    }
   }
  },
  {
   "cell_type": "code",
   "execution_count": 118,
   "outputs": [
    {
     "data": {
      "text/plain": "0    0.871545\n1    0.128455\nName: visit, dtype: float64"
     },
     "execution_count": 118,
     "metadata": {},
     "output_type": "execute_result"
    }
   ],
   "source": [
    "y_train.value_counts(normalize=True)"
   ],
   "metadata": {
    "collapsed": false,
    "pycharm": {
     "name": "#%%\n"
    }
   }
  },
  {
   "cell_type": "code",
   "execution_count": 119,
   "outputs": [
    {
     "data": {
      "text/plain": "0    0.870802\n1    0.129198\nName: visit, dtype: float64"
     },
     "execution_count": 119,
     "metadata": {},
     "output_type": "execute_result"
    }
   ],
   "source": [
    "y_val.value_counts(normalize=True)"
   ],
   "metadata": {
    "collapsed": false,
    "pycharm": {
     "name": "#%%\n"
    }
   }
  },
  {
   "cell_type": "code",
   "execution_count": 113,
   "outputs": [
    {
     "data": {
      "text/plain": "       recency   history_segment  history  mens  womens   zip_code  newbie  \\\n609          9    3) $200 - $350   212.32     1       0  Surburban       0   \n51952        3  6) $750 - $1,000   849.16     1       1  Surburban       1   \n33629        9      1) $0 - $100    43.22     1       0  Surburban       1   \n22103        8      1) $0 - $100    29.99     0       1  Surburban       0   \n21350        7    2) $100 - $200   164.07     1       0  Surburban       1   \n...        ...               ...      ...   ...     ...        ...     ...   \n9307         1    2) $100 - $200   110.45     0       1      Urban       0   \n16819        1      1) $0 - $100    88.04     0       1  Surburban       0   \n57173        1      1) $0 - $100    72.63     0       1      Rural       0   \n1282         3    4) $350 - $500   366.16     0       1      Rural       0   \n23624        9      1) $0 - $100    36.87     1       0      Urban       1   \n\n            channel  \n609    Multichannel  \n51952  Multichannel  \n33629         Phone  \n22103           Web  \n21350         Phone  \n...             ...  \n9307          Phone  \n16819         Phone  \n57173         Phone  \n1282          Phone  \n23624           Web  \n\n[29885 rows x 8 columns]",
      "text/html": "<div>\n<style scoped>\n    .dataframe tbody tr th:only-of-type {\n        vertical-align: middle;\n    }\n\n    .dataframe tbody tr th {\n        vertical-align: top;\n    }\n\n    .dataframe thead th {\n        text-align: right;\n    }\n</style>\n<table border=\"1\" class=\"dataframe\">\n  <thead>\n    <tr style=\"text-align: right;\">\n      <th></th>\n      <th>recency</th>\n      <th>history_segment</th>\n      <th>history</th>\n      <th>mens</th>\n      <th>womens</th>\n      <th>zip_code</th>\n      <th>newbie</th>\n      <th>channel</th>\n    </tr>\n  </thead>\n  <tbody>\n    <tr>\n      <th>609</th>\n      <td>9</td>\n      <td>3) $200 - $350</td>\n      <td>212.32</td>\n      <td>1</td>\n      <td>0</td>\n      <td>Surburban</td>\n      <td>0</td>\n      <td>Multichannel</td>\n    </tr>\n    <tr>\n      <th>51952</th>\n      <td>3</td>\n      <td>6) $750 - $1,000</td>\n      <td>849.16</td>\n      <td>1</td>\n      <td>1</td>\n      <td>Surburban</td>\n      <td>1</td>\n      <td>Multichannel</td>\n    </tr>\n    <tr>\n      <th>33629</th>\n      <td>9</td>\n      <td>1) $0 - $100</td>\n      <td>43.22</td>\n      <td>1</td>\n      <td>0</td>\n      <td>Surburban</td>\n      <td>1</td>\n      <td>Phone</td>\n    </tr>\n    <tr>\n      <th>22103</th>\n      <td>8</td>\n      <td>1) $0 - $100</td>\n      <td>29.99</td>\n      <td>0</td>\n      <td>1</td>\n      <td>Surburban</td>\n      <td>0</td>\n      <td>Web</td>\n    </tr>\n    <tr>\n      <th>21350</th>\n      <td>7</td>\n      <td>2) $100 - $200</td>\n      <td>164.07</td>\n      <td>1</td>\n      <td>0</td>\n      <td>Surburban</td>\n      <td>1</td>\n      <td>Phone</td>\n    </tr>\n    <tr>\n      <th>...</th>\n      <td>...</td>\n      <td>...</td>\n      <td>...</td>\n      <td>...</td>\n      <td>...</td>\n      <td>...</td>\n      <td>...</td>\n      <td>...</td>\n    </tr>\n    <tr>\n      <th>9307</th>\n      <td>1</td>\n      <td>2) $100 - $200</td>\n      <td>110.45</td>\n      <td>0</td>\n      <td>1</td>\n      <td>Urban</td>\n      <td>0</td>\n      <td>Phone</td>\n    </tr>\n    <tr>\n      <th>16819</th>\n      <td>1</td>\n      <td>1) $0 - $100</td>\n      <td>88.04</td>\n      <td>0</td>\n      <td>1</td>\n      <td>Surburban</td>\n      <td>0</td>\n      <td>Phone</td>\n    </tr>\n    <tr>\n      <th>57173</th>\n      <td>1</td>\n      <td>1) $0 - $100</td>\n      <td>72.63</td>\n      <td>0</td>\n      <td>1</td>\n      <td>Rural</td>\n      <td>0</td>\n      <td>Phone</td>\n    </tr>\n    <tr>\n      <th>1282</th>\n      <td>3</td>\n      <td>4) $350 - $500</td>\n      <td>366.16</td>\n      <td>0</td>\n      <td>1</td>\n      <td>Rural</td>\n      <td>0</td>\n      <td>Phone</td>\n    </tr>\n    <tr>\n      <th>23624</th>\n      <td>9</td>\n      <td>1) $0 - $100</td>\n      <td>36.87</td>\n      <td>1</td>\n      <td>0</td>\n      <td>Urban</td>\n      <td>1</td>\n      <td>Web</td>\n    </tr>\n  </tbody>\n</table>\n<p>29885 rows × 8 columns</p>\n</div>"
     },
     "execution_count": 113,
     "metadata": {},
     "output_type": "execute_result"
    }
   ],
   "source": [
    "X_train"
   ],
   "metadata": {
    "collapsed": false,
    "pycharm": {
     "name": "#%%\n"
    }
   }
  },
  {
   "cell_type": "code",
   "execution_count": 114,
   "outputs": [
    {
     "data": {
      "text/plain": "       recency history_segment  history  mens  womens   zip_code  newbie  \\\n7730         3  5) $500 - $750   503.73     0       1      Rural       1   \n17594        5  2) $100 - $200   163.39     1       0      Urban       0   \n14481       11  3) $200 - $350   287.77     1       0      Rural       1   \n20003        3    1) $0 - $100    29.99     0       1  Surburban       1   \n19981        5  2) $100 - $200   131.51     0       1      Urban       1   \n...        ...             ...      ...   ...     ...        ...     ...   \n41828       11  4) $350 - $500   457.09     0       1  Surburban       1   \n49354        2    1) $0 - $100    29.99     0       1      Rural       1   \n12063        9  2) $100 - $200   147.48     1       0      Rural       1   \n3757        10  2) $100 - $200   128.78     1       0  Surburban       1   \n10708        6  2) $100 - $200   138.72     1       0      Urban       0   \n\n            channel  \n7730   Multichannel  \n17594           Web  \n14481           Web  \n20003           Web  \n19981           Web  \n...             ...  \n41828  Multichannel  \n49354         Phone  \n12063         Phone  \n3757          Phone  \n10708           Web  \n\n[12808 rows x 8 columns]",
      "text/html": "<div>\n<style scoped>\n    .dataframe tbody tr th:only-of-type {\n        vertical-align: middle;\n    }\n\n    .dataframe tbody tr th {\n        vertical-align: top;\n    }\n\n    .dataframe thead th {\n        text-align: right;\n    }\n</style>\n<table border=\"1\" class=\"dataframe\">\n  <thead>\n    <tr style=\"text-align: right;\">\n      <th></th>\n      <th>recency</th>\n      <th>history_segment</th>\n      <th>history</th>\n      <th>mens</th>\n      <th>womens</th>\n      <th>zip_code</th>\n      <th>newbie</th>\n      <th>channel</th>\n    </tr>\n  </thead>\n  <tbody>\n    <tr>\n      <th>7730</th>\n      <td>3</td>\n      <td>5) $500 - $750</td>\n      <td>503.73</td>\n      <td>0</td>\n      <td>1</td>\n      <td>Rural</td>\n      <td>1</td>\n      <td>Multichannel</td>\n    </tr>\n    <tr>\n      <th>17594</th>\n      <td>5</td>\n      <td>2) $100 - $200</td>\n      <td>163.39</td>\n      <td>1</td>\n      <td>0</td>\n      <td>Urban</td>\n      <td>0</td>\n      <td>Web</td>\n    </tr>\n    <tr>\n      <th>14481</th>\n      <td>11</td>\n      <td>3) $200 - $350</td>\n      <td>287.77</td>\n      <td>1</td>\n      <td>0</td>\n      <td>Rural</td>\n      <td>1</td>\n      <td>Web</td>\n    </tr>\n    <tr>\n      <th>20003</th>\n      <td>3</td>\n      <td>1) $0 - $100</td>\n      <td>29.99</td>\n      <td>0</td>\n      <td>1</td>\n      <td>Surburban</td>\n      <td>1</td>\n      <td>Web</td>\n    </tr>\n    <tr>\n      <th>19981</th>\n      <td>5</td>\n      <td>2) $100 - $200</td>\n      <td>131.51</td>\n      <td>0</td>\n      <td>1</td>\n      <td>Urban</td>\n      <td>1</td>\n      <td>Web</td>\n    </tr>\n    <tr>\n      <th>...</th>\n      <td>...</td>\n      <td>...</td>\n      <td>...</td>\n      <td>...</td>\n      <td>...</td>\n      <td>...</td>\n      <td>...</td>\n      <td>...</td>\n    </tr>\n    <tr>\n      <th>41828</th>\n      <td>11</td>\n      <td>4) $350 - $500</td>\n      <td>457.09</td>\n      <td>0</td>\n      <td>1</td>\n      <td>Surburban</td>\n      <td>1</td>\n      <td>Multichannel</td>\n    </tr>\n    <tr>\n      <th>49354</th>\n      <td>2</td>\n      <td>1) $0 - $100</td>\n      <td>29.99</td>\n      <td>0</td>\n      <td>1</td>\n      <td>Rural</td>\n      <td>1</td>\n      <td>Phone</td>\n    </tr>\n    <tr>\n      <th>12063</th>\n      <td>9</td>\n      <td>2) $100 - $200</td>\n      <td>147.48</td>\n      <td>1</td>\n      <td>0</td>\n      <td>Rural</td>\n      <td>1</td>\n      <td>Phone</td>\n    </tr>\n    <tr>\n      <th>3757</th>\n      <td>10</td>\n      <td>2) $100 - $200</td>\n      <td>128.78</td>\n      <td>1</td>\n      <td>0</td>\n      <td>Surburban</td>\n      <td>1</td>\n      <td>Phone</td>\n    </tr>\n    <tr>\n      <th>10708</th>\n      <td>6</td>\n      <td>2) $100 - $200</td>\n      <td>138.72</td>\n      <td>1</td>\n      <td>0</td>\n      <td>Urban</td>\n      <td>0</td>\n      <td>Web</td>\n    </tr>\n  </tbody>\n</table>\n<p>12808 rows × 8 columns</p>\n</div>"
     },
     "execution_count": 114,
     "metadata": {},
     "output_type": "execute_result"
    }
   ],
   "source": [
    "X_val"
   ],
   "metadata": {
    "collapsed": false,
    "pycharm": {
     "name": "#%%\n"
    }
   }
  },
  {
   "cell_type": "code",
   "execution_count": 139,
   "outputs": [],
   "source": [
    "t = pd.DataFrame(data = [1 for _ in X_train.index],\n",
    "    index=X_train.index\n",
    ")\n",
    "# t.loc[t.index] = 10"
   ],
   "metadata": {
    "collapsed": false,
    "pycharm": {
     "name": "#%%\n"
    }
   }
  },
  {
   "cell_type": "code",
   "execution_count": 140,
   "outputs": [
    {
     "data": {
      "text/plain": "       0\n15194  1\n23642  1\n57737  1\n33880  1\n21211  1\n...   ..\n9307   1\n16819  1\n57173  1\n1282   1\n23624  1\n\n[21346 rows x 1 columns]",
      "text/html": "<div>\n<style scoped>\n    .dataframe tbody tr th:only-of-type {\n        vertical-align: middle;\n    }\n\n    .dataframe tbody tr th {\n        vertical-align: top;\n    }\n\n    .dataframe thead th {\n        text-align: right;\n    }\n</style>\n<table border=\"1\" class=\"dataframe\">\n  <thead>\n    <tr style=\"text-align: right;\">\n      <th></th>\n      <th>0</th>\n    </tr>\n  </thead>\n  <tbody>\n    <tr>\n      <th>15194</th>\n      <td>1</td>\n    </tr>\n    <tr>\n      <th>23642</th>\n      <td>1</td>\n    </tr>\n    <tr>\n      <th>57737</th>\n      <td>1</td>\n    </tr>\n    <tr>\n      <th>33880</th>\n      <td>1</td>\n    </tr>\n    <tr>\n      <th>21211</th>\n      <td>1</td>\n    </tr>\n    <tr>\n      <th>...</th>\n      <td>...</td>\n    </tr>\n    <tr>\n      <th>9307</th>\n      <td>1</td>\n    </tr>\n    <tr>\n      <th>16819</th>\n      <td>1</td>\n    </tr>\n    <tr>\n      <th>57173</th>\n      <td>1</td>\n    </tr>\n    <tr>\n      <th>1282</th>\n      <td>1</td>\n    </tr>\n    <tr>\n      <th>23624</th>\n      <td>1</td>\n    </tr>\n  </tbody>\n</table>\n<p>21346 rows × 1 columns</p>\n</div>"
     },
     "execution_count": 140,
     "metadata": {},
     "output_type": "execute_result"
    }
   ],
   "source": [
    "t"
   ],
   "metadata": {
    "collapsed": false,
    "pycharm": {
     "name": "#%%\n"
    }
   }
  },
  {
   "cell_type": "code",
   "execution_count": 152,
   "outputs": [
    {
     "data": {
      "text/plain": "0.1987362209568153"
     },
     "execution_count": 152,
     "metadata": {},
     "output_type": "execute_result"
    }
   ],
   "source": [
    "import numpy as np\n",
    "np.random.random()"
   ],
   "metadata": {
    "collapsed": false,
    "pycharm": {
     "name": "#%%\n"
    }
   }
  },
  {
   "cell_type": "markdown",
   "source": [
    "## Single model"
   ],
   "metadata": {
    "collapsed": false,
    "pycharm": {
     "name": "#%% md\n"
    }
   }
  },
  {
   "cell_type": "code",
   "execution_count": 120,
   "outputs": [
    {
     "data": {
      "text/plain": "<Figure size 1440x504 with 3 Axes>",
      "image/png": "[encoded data removed]"
     },
     "metadata": {
      "needs_background": "light"
     },
     "output_type": "display_data"
    }
   ],
   "source": [
    "sm = SoloModel(CatBoostClassifier(iterations=100, task_type=\"GPU\", random_state=42, silent=True))\n",
    "sm = sm.fit(X_train, y_train, trmnt_train, estimator_fit_params={'cat_features': ['history_segment', 'zip_code', 'channel']})\n",
    "\n",
    "uplift_sm = sm.predict(X_val)\n",
    "\n",
    "sm_score = uplift_at_k(y_true=y_val, uplift=uplift_sm, treatment=trmnt_val, strategy='by_group', k=0.3)\n",
    "\n",
    "models_results['approach'].append('SoloModel')\n",
    "models_results['uplift@30%'].append(sm_score)\n",
    "\n",
    "# Получим условные вероятности выполнения целевого действия при взаимодействии для каждого объекта\n",
    "sm_trmnt_preds = sm.trmnt_preds_\n",
    "# И условные вероятности выполнения целевого действия без взаимодействия для каждого объекта\n",
    "sm_ctrl_preds = sm.ctrl_preds_\n",
    "\n",
    "# Отрисуем распределения вероятностей и их разность (uplift)\n",
    "plot_uplift_preds(trmnt_preds=sm_trmnt_preds, ctrl_preds=sm_ctrl_preds);"
   ],
   "metadata": {
    "collapsed": false,
    "pycharm": {
     "name": "#%%\n"
    }
   }
  },
  {
   "cell_type": "code",
   "execution_count": 154,
   "outputs": [
    {
     "data": {
      "text/plain": "7730     0\n17594    0\n14481    0\n20003    0\n19981    0\n        ..\n20159    0\n54905    0\n22035    0\n32253    1\n18362    0\nName: visit, Length: 21347, dtype: int64"
     },
     "execution_count": 154,
     "metadata": {},
     "output_type": "execute_result"
    }
   ],
   "source": [
    "y_val"
   ],
   "metadata": {
    "collapsed": false,
    "pycharm": {
     "name": "#%%\n"
    }
   }
  },
  {
   "cell_type": "code",
   "execution_count": 155,
   "outputs": [
    {
     "data": {
      "text/plain": "7730     0\n17594    1\n14481    1\n20003    1\n19981    0\n        ..\n20159    1\n54905    0\n22035    0\n32253    1\n18362    0\nName: segment, Length: 21347, dtype: int64"
     },
     "execution_count": 155,
     "metadata": {},
     "output_type": "execute_result"
    }
   ],
   "source": [
    "trmnt_val"
   ],
   "metadata": {
    "collapsed": false,
    "pycharm": {
     "name": "#%%\n"
    }
   }
  },
  {
   "cell_type": "code",
   "execution_count": 153,
   "outputs": [
    {
     "data": {
      "text/plain": "0.07205126328781693"
     },
     "execution_count": 153,
     "metadata": {},
     "output_type": "execute_result"
    }
   ],
   "source": [
    "sm_score"
   ],
   "metadata": {
    "collapsed": false,
    "pycharm": {
     "name": "#%%\n"
    }
   }
  },
  {
   "cell_type": "code",
   "execution_count": 121,
   "outputs": [
    {
     "data": {
      "text/plain": "array([ 0.03210443,  0.02052168, -0.00873204, ...,  0.04017716,\n        0.03415103,  0.04917549])"
     },
     "execution_count": 121,
     "metadata": {},
     "output_type": "execute_result"
    }
   ],
   "source": [
    "uplift_sm"
   ],
   "metadata": {
    "collapsed": false,
    "pycharm": {
     "name": "#%%\n"
    }
   }
  },
  {
   "cell_type": "code",
   "execution_count": 14,
   "outputs": [
    {
     "data": {
      "text/plain": "      feature_name  feature_score\n0           newbie      16.159375\n1          history      15.380477\n2          recency      15.057106\n3           womens      12.918455\n4        treatment      12.083391\n5          channel       9.437116\n6         zip_code       9.357430\n7             mens       6.807001\n8  history_segment       2.799648",
      "text/html": "<div>\n<style scoped>\n    .dataframe tbody tr th:only-of-type {\n        vertical-align: middle;\n    }\n\n    .dataframe tbody tr th {\n        vertical-align: top;\n    }\n\n    .dataframe thead th {\n        text-align: right;\n    }\n</style>\n<table border=\"1\" class=\"dataframe\">\n  <thead>\n    <tr style=\"text-align: right;\">\n      <th></th>\n      <th>feature_name</th>\n      <th>feature_score</th>\n    </tr>\n  </thead>\n  <tbody>\n    <tr>\n      <th>0</th>\n      <td>newbie</td>\n      <td>16.159375</td>\n    </tr>\n    <tr>\n      <th>1</th>\n      <td>history</td>\n      <td>15.380477</td>\n    </tr>\n    <tr>\n      <th>2</th>\n      <td>recency</td>\n      <td>15.057106</td>\n    </tr>\n    <tr>\n      <th>3</th>\n      <td>womens</td>\n      <td>12.918455</td>\n    </tr>\n    <tr>\n      <th>4</th>\n      <td>treatment</td>\n      <td>12.083391</td>\n    </tr>\n    <tr>\n      <th>5</th>\n      <td>channel</td>\n      <td>9.437116</td>\n    </tr>\n    <tr>\n      <th>6</th>\n      <td>zip_code</td>\n      <td>9.357430</td>\n    </tr>\n    <tr>\n      <th>7</th>\n      <td>mens</td>\n      <td>6.807001</td>\n    </tr>\n    <tr>\n      <th>8</th>\n      <td>history_segment</td>\n      <td>2.799648</td>\n    </tr>\n  </tbody>\n</table>\n</div>"
     },
     "execution_count": 14,
     "metadata": {},
     "output_type": "execute_result"
    }
   ],
   "source": [
    "sm_fi = pd.DataFrame({\n",
    "    'feature_name': sm.estimator.feature_names_,\n",
    "    'feature_score': sm.estimator.feature_importances_\n",
    "}).sort_values('feature_score', ascending=False).reset_index(drop=True)\n",
    "\n",
    "sm_fi"
   ],
   "metadata": {
    "collapsed": false,
    "pycharm": {
     "name": "#%%\n"
    }
   }
  },
  {
   "cell_type": "markdown",
   "source": [
    "## Class transform"
   ],
   "metadata": {
    "collapsed": false,
    "pycharm": {
     "name": "#%% md\n"
    }
   }
  },
  {
   "cell_type": "code",
   "execution_count": 15,
   "outputs": [],
   "source": [
    "from sklift.models import ClassTransformation\n",
    "\n",
    "\n",
    "ct = ClassTransformation(CatBoostClassifier(iterations=1000, task_type='GPU', random_state=42, silent=True))\n",
    "ct = ct.fit(X_train, y_train, trmnt_train, estimator_fit_params={'cat_features': ['history_segment', 'zip_code', 'channel']})\n",
    "\n",
    "uplift_ct = ct.predict(X_val)\n",
    "\n",
    "ct_score = uplift_at_k(y_true=y_val, uplift=uplift_ct, treatment=trmnt_val, strategy='by_group', k=0.3)\n",
    "\n",
    "models_results['approach'].append('ClassTransformation')\n",
    "models_results['uplift@30%'].append(ct_score)"
   ],
   "metadata": {
    "collapsed": false,
    "pycharm": {
     "name": "#%%\n"
    }
   }
  },
  {
   "cell_type": "markdown",
   "source": [
    "## Two independent models"
   ],
   "metadata": {
    "collapsed": false,
    "pycharm": {
     "name": "#%% md\n"
    }
   }
  },
  {
   "cell_type": "code",
   "execution_count": 16,
   "outputs": [
    {
     "data": {
      "text/plain": "<Figure size 1440x504 with 3 Axes>",
      "image/png": "[encoded data removed]"
     },
     "metadata": {
      "needs_background": "light"
     },
     "output_type": "display_data"
    }
   ],
   "source": [
    "from sklift.models import TwoModels\n",
    "\n",
    "\n",
    "tm = TwoModels(\n",
    "    estimator_trmnt=CatBoostClassifier(iterations=1000, task_type='GPU', random_state=42, silent=True),\n",
    "    estimator_ctrl=CatBoostClassifier(iterations=1000, task_type='GPU', random_state=42, silent=True),\n",
    "    method='vanilla'\n",
    ")\n",
    "tm = tm.fit(\n",
    "    X_train, y_train, trmnt_train,\n",
    "    estimator_trmnt_fit_params={'cat_features': ['history_segment', 'zip_code', 'channel']},\n",
    "    estimator_ctrl_fit_params={'cat_features': ['history_segment', 'zip_code', 'channel']}\n",
    ")\n",
    "\n",
    "uplift_tm = tm.predict(X_val)\n",
    "\n",
    "tm_score = uplift_at_k(y_true=y_val, uplift=uplift_tm, treatment=trmnt_val, strategy='by_group', k=0.3)\n",
    "\n",
    "models_results['approach'].append('TwoModels')\n",
    "models_results['uplift@30%'].append(tm_score)\n",
    "\n",
    "plot_uplift_preds(trmnt_preds=tm.trmnt_preds_, ctrl_preds=tm.ctrl_preds_);"
   ],
   "metadata": {
    "collapsed": false,
    "pycharm": {
     "name": "#%%\n"
    }
   }
  },
  {
   "cell_type": "markdown",
   "source": [
    "## Two dependend models"
   ],
   "metadata": {
    "collapsed": false,
    "pycharm": {
     "name": "#%% md\n"
    }
   }
  },
  {
   "cell_type": "code",
   "execution_count": 36,
   "outputs": [
    {
     "data": {
      "text/plain": "<Figure size 1440x504 with 3 Axes>",
      "image/png": "[encoded data removed]"
     },
     "metadata": {
      "needs_background": "light"
     },
     "output_type": "display_data"
    }
   ],
   "source": [
    "tm_ctrl = TwoModels(\n",
    "    estimator_trmnt=CatBoostClassifier(iterations=1000, task_type='GPU', random_state=42, silent=True),\n",
    "    estimator_ctrl=CatBoostClassifier(iterations=1000, task_type='GPU', random_state=42, silent=True),\n",
    "    method='ddr_control'\n",
    ")\n",
    "tm_ctrl = tm_ctrl.fit(\n",
    "    X_train, y_train, trmnt_train,\n",
    "    estimator_trmnt_fit_params={'cat_features': ['gender']},\n",
    "    estimator_ctrl_fit_params={'cat_features': ['gender']}\n",
    ")\n",
    "\n",
    "uplift_tm_ctrl = tm_ctrl.predict(X_val)\n",
    "\n",
    "tm_ctrl_score = uplift_at_k(y_true=y_val, uplift=uplift_tm_ctrl, treatment=trmnt_val, strategy='by_group', k=0.3)\n",
    "\n",
    "models_results['approach'].append('TwoModels_ddr_control')\n",
    "models_results['uplift@30%'].append(tm_ctrl_score)\n",
    "\n",
    "plot_uplift_preds(trmnt_preds=tm_ctrl.trmnt_preds_, ctrl_preds=tm_ctrl.ctrl_preds_);"
   ],
   "metadata": {
    "collapsed": false,
    "pycharm": {
     "name": "#%%\n"
    }
   }
  },
  {
   "cell_type": "code",
   "execution_count": 47,
   "outputs": [
    {
     "data": {
      "text/plain": "     0         1         2         3         4         5         6       \\\n0  0.116088  0.269822  0.049340  0.038516  0.143292  0.047044  0.018165   \n1  0.045442  0.041342 -0.018277  0.012866  0.028861  0.007020 -0.001542   \n\n     7         8         9       ...    206099    206100    206101    206102  \\\n0  0.086771  0.137409  0.029504  ...  0.191889  0.044686  0.069574  0.170429   \n1  0.047911 -0.013122 -0.004837  ...  0.076940 -0.005309  0.033985 -0.097014   \n\n     206103    206104    206105    206106    206107    206108  \n0  0.384708  0.022230  0.020183  0.043997  0.283808  0.053526  \n1 -0.093607  0.002797  0.000479  0.014596 -0.098411  0.024334  \n\n[2 rows x 206109 columns]",
      "text/html": "<div>\n<style scoped>\n    .dataframe tbody tr th:only-of-type {\n        vertical-align: middle;\n    }\n\n    .dataframe tbody tr th {\n        vertical-align: top;\n    }\n\n    .dataframe thead th {\n        text-align: right;\n    }\n</style>\n<table border=\"1\" class=\"dataframe\">\n  <thead>\n    <tr style=\"text-align: right;\">\n      <th></th>\n      <th>0</th>\n      <th>1</th>\n      <th>2</th>\n      <th>3</th>\n      <th>4</th>\n      <th>5</th>\n      <th>6</th>\n      <th>7</th>\n      <th>8</th>\n      <th>9</th>\n      <th>...</th>\n      <th>206099</th>\n      <th>206100</th>\n      <th>206101</th>\n      <th>206102</th>\n      <th>206103</th>\n      <th>206104</th>\n      <th>206105</th>\n      <th>206106</th>\n      <th>206107</th>\n      <th>206108</th>\n    </tr>\n  </thead>\n  <tbody>\n    <tr>\n      <th>0</th>\n      <td>0.116088</td>\n      <td>0.269822</td>\n      <td>0.049340</td>\n      <td>0.038516</td>\n      <td>0.143292</td>\n      <td>0.047044</td>\n      <td>0.018165</td>\n      <td>0.086771</td>\n      <td>0.137409</td>\n      <td>0.029504</td>\n      <td>...</td>\n      <td>0.191889</td>\n      <td>0.044686</td>\n      <td>0.069574</td>\n      <td>0.170429</td>\n      <td>0.384708</td>\n      <td>0.022230</td>\n      <td>0.020183</td>\n      <td>0.043997</td>\n      <td>0.283808</td>\n      <td>0.053526</td>\n    </tr>\n    <tr>\n      <th>1</th>\n      <td>0.045442</td>\n      <td>0.041342</td>\n      <td>-0.018277</td>\n      <td>0.012866</td>\n      <td>0.028861</td>\n      <td>0.007020</td>\n      <td>-0.001542</td>\n      <td>0.047911</td>\n      <td>-0.013122</td>\n      <td>-0.004837</td>\n      <td>...</td>\n      <td>0.076940</td>\n      <td>-0.005309</td>\n      <td>0.033985</td>\n      <td>-0.097014</td>\n      <td>-0.093607</td>\n      <td>0.002797</td>\n      <td>0.000479</td>\n      <td>0.014596</td>\n      <td>-0.098411</td>\n      <td>0.024334</td>\n    </tr>\n  </tbody>\n</table>\n<p>2 rows × 206109 columns</p>\n</div>"
     },
     "execution_count": 47,
     "metadata": {},
     "output_type": "execute_result"
    }
   ],
   "source": [
    "pd.DataFrame([tm_ctrl.trmnt_preds_, uplift_tm_ctrl])"
   ],
   "metadata": {
    "collapsed": false,
    "pycharm": {
     "name": "#%%\n"
    }
   }
  },
  {
   "cell_type": "markdown",
   "source": [
    "## Results"
   ],
   "metadata": {
    "collapsed": false,
    "pycharm": {
     "name": "#%% md\n"
    }
   }
  },
  {
   "cell_type": "code",
   "execution_count": 37,
   "outputs": [
    {
     "data": {
      "text/plain": "                approach  uplift@30%\n3    ClassTransformation    0.031702\n4              TwoModels    0.016004\n1              SoloModel    0.013953\n2              SoloModel    0.013411\n5  TwoModels_ddr_control    0.011537\n0              SoloModel    0.006042",
      "text/html": "<div>\n<style scoped>\n    .dataframe tbody tr th:only-of-type {\n        vertical-align: middle;\n    }\n\n    .dataframe tbody tr th {\n        vertical-align: top;\n    }\n\n    .dataframe thead th {\n        text-align: right;\n    }\n</style>\n<table border=\"1\" class=\"dataframe\">\n  <thead>\n    <tr style=\"text-align: right;\">\n      <th></th>\n      <th>approach</th>\n      <th>uplift@30%</th>\n    </tr>\n  </thead>\n  <tbody>\n    <tr>\n      <th>3</th>\n      <td>ClassTransformation</td>\n      <td>0.031702</td>\n    </tr>\n    <tr>\n      <th>4</th>\n      <td>TwoModels</td>\n      <td>0.016004</td>\n    </tr>\n    <tr>\n      <th>1</th>\n      <td>SoloModel</td>\n      <td>0.013953</td>\n    </tr>\n    <tr>\n      <th>2</th>\n      <td>SoloModel</td>\n      <td>0.013411</td>\n    </tr>\n    <tr>\n      <th>5</th>\n      <td>TwoModels_ddr_control</td>\n      <td>0.011537</td>\n    </tr>\n    <tr>\n      <th>0</th>\n      <td>SoloModel</td>\n      <td>0.006042</td>\n    </tr>\n  </tbody>\n</table>\n</div>"
     },
     "execution_count": 37,
     "metadata": {},
     "output_type": "execute_result"
    }
   ],
   "source": [
    "pd.DataFrame(data=models_results).sort_values('uplift@30%', ascending=False)"
   ],
   "metadata": {
    "collapsed": false,
    "pycharm": {
     "name": "#%%\n"
    }
   }
  },
  {
   "cell_type": "code",
   "execution_count": 39,
   "outputs": [
    {
     "name": "stderr",
     "output_type": "stream",
     "text": [
      "C:\\Users\\HardWorkingStation\\PyProjects\\uplift_lab\\venv\\lib\\site-packages\\numpy\\core\\fromnumeric.py:3156: VisibleDeprecationWarning: Creating an ndarray from ragged nested sequences (which is a list-or-tuple of lists-or-tuples-or ndarrays with different lengths or shapes) is deprecated. If you meant to do this, you must specify 'dtype=object' when creating the ndarray.\n",
      "  return asarray(a).ndim\n"
     ]
    },
    {
     "data": {
      "text/plain": "<Figure size 576x432 with 2 Axes>",
      "image/png": "[encoded data removed]"
     },
     "metadata": {
      "needs_background": "light"
     },
     "output_type": "display_data"
    }
   ],
   "source": [
    "from sklift.viz import plot_uplift_by_percentile\n",
    "\n",
    "# line plot\n",
    "plot_uplift_by_percentile(y_val, uplift_ct, trmnt_val, strategy='overall', kind='bar');"
   ],
   "metadata": {
    "collapsed": false,
    "pycharm": {
     "name": "#%%\n"
    }
   }
  },
  {
   "cell_type": "code",
   "execution_count": 48,
   "outputs": [
    {
     "data": {
      "text/plain": "sklearn.utils._bunch.Bunch"
     },
     "execution_count": 48,
     "metadata": {},
     "output_type": "execute_result"
    }
   ],
   "source": [
    "type(dataset)"
   ],
   "metadata": {
    "collapsed": false,
    "pycharm": {
     "name": "#%%\n"
    }
   }
  }
 ],
 "metadata": {
  "kernelspec": {
   "display_name": "Python 3",
   "language": "python",
   "name": "python3"
  },
  "language_info": {
   "codemirror_mode": {
    "name": "ipython",
    "version": 2
   },
   "file_extension": ".py",
   "mimetype": "text/x-python",
   "name": "python",
   "nbconvert_exporter": "python",
   "pygments_lexer": "ipython2",
   "version": "2.7.6"
  }
 },
 "nbformat": 4,
 "nbformat_minor": 0
}