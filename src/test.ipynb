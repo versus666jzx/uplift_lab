{
 "cells": [
  {
   "cell_type": "code",
   "execution_count": 2,
   "outputs": [],
   "source": [
    "from typing import Any\n",
    "import pandas as pd\n",
    "from sklearn.model_selection import train_test_split\n",
    "from sklift.datasets import fetch_hillstrom\n",
    "from sklift.metrics import uplift_at_k, uplift_by_percentile, weighted_average_uplift\n",
    "from sklift.viz import plot_uplift_preds\n",
    "from sklift.models import SoloModel\n",
    "from catboost import CatBoostClassifier\n",
    "from category_encoders import CatBoostEncoder\n",
    "import pickle"
   ],
   "metadata": {
    "collapsed": false,
    "pycharm": {
     "name": "#%%\n"
    }
   }
  },
  {
   "cell_type": "code",
   "execution_count": null,
   "outputs": [],
   "source": [
    "def get_data() -> tuple[Any, Any, Any]:\n",
    "\t# получаем датасет\n",
    "\tdataset = fetch_hillstrom(target_col='visit')\n",
    "\tdataset, target, treatment = dataset['data'], dataset['target'], dataset['treatment']\n",
    "\t# выбираем два сегмента\n",
    "\tdataset = dataset[treatment != 'Mens E-Mail']\n",
    "\ttarget = target[treatment != 'Mens E-Mail']\n",
    "\ttreatment = treatment[treatment != 'Mens E-Mail'].map({\n",
    "\t\t'Womens E-Mail': 1,\n",
    "\t\t'No E-Mail':     0\n",
    "\t})\n",
    "\n",
    "\treturn dataset, target, treatment"
   ],
   "metadata": {
    "collapsed": false,
    "pycharm": {
     "name": "#%%\n"
    }
   }
  },
  {
   "cell_type": "code",
   "execution_count": null,
   "outputs": [],
   "source": [
    "dataset, target, treatment = get_data()\n",
    "\n",
    "data_train_index = pd.read_csv('../data/data_train_index.csv')\n",
    "data_test_index = pd.read_csv('../data/data_test_index.csv')\n",
    "treatment_train_index = pd.read_csv('../data/treatment_train_index.csv')\n",
    "treatment_test_index = pd.read_csv('../data/treatment_test_index.csv')\n",
    "target_train_index = pd.read_csv('../data/target_train_index.csv')\n",
    "target_test_index = pd.read_csv('../data/target_test_index.csv')\n",
    "\n",
    "# фиксируем выборки, чтобы результат работы ML был предсказуем\n",
    "data_train = dataset.loc[data_train_index['0']]\n",
    "data_test = dataset.loc[data_test_index['0']]\n",
    "treatment_train = treatment.loc[treatment_train_index['0']]\n",
    "treatment_test = treatment.loc[treatment_test_index['0']]\n",
    "target_train = target.loc[target_train_index['0']]\n",
    "target_test = target.loc[target_test_index['0']]"
   ],
   "metadata": {
    "collapsed": false,
    "pycharm": {
     "name": "#%%\n"
    }
   }
  },
  {
   "cell_type": "code",
   "execution_count": null,
   "outputs": [],
   "source": [
    "models_results = {\n",
    "    'approach': [],\n",
    "    'uplift@30%': []\n",
    "}"
   ],
   "metadata": {
    "collapsed": false,
    "pycharm": {
     "name": "#%%\n"
    }
   }
  },
  {
   "cell_type": "markdown",
   "source": [
    "## Single model"
   ],
   "metadata": {
    "collapsed": false,
    "pycharm": {
     "name": "#%% md\n"
    }
   }
  },
  {
   "cell_type": "code",
   "execution_count": null,
   "outputs": [],
   "source": [
    "cbr = CatBoostClassifier(iterations=500, task_type=\"GPU\", random_state=42, silent=True)\n",
    "\n",
    "sm = SoloModel(cbr)\n",
    "sm.fit(data_train, treatment_train, target_train, estimator_fit_params={'cat_features': ['womens', 'mens','channel', 'zip_code', 'history_segment', 'newbie']})\n",
    "\n",
    "uplift_sm = sm.predict(data_test)\n",
    "pd.Series(uplift_sm, index=data_test.index).to_csv('sm_cbc.csv')\n",
    "sm_score = uplift_at_k(y_true=target_test, uplift=uplift_sm, treatment=treatment_test, strategy='by_group', k=0.3)\n",
    "\n",
    "models_results['approach'].append('SoloModel')\n",
    "models_results['uplift@30%'].append(sm_score)\n",
    "\n",
    "# Получим условные вероятности выполнения целевого действия при взаимодействии для каждого объекта\n",
    "sm_trmnt_preds = sm.trmnt_preds_\n",
    "# И условные вероятности выполнения целевого действия без взаимодействия для каждого объекта\n",
    "sm_ctrl_preds = sm.ctrl_preds_\n",
    "\n",
    "# Отрисуем распределения вероятностей и их разность (uplift)\n",
    "plot_uplift_preds(trmnt_preds=sm_trmnt_preds, ctrl_preds=sm_ctrl_preds);"
   ],
   "metadata": {
    "collapsed": false,
    "pycharm": {
     "name": "#%%\n"
    }
   }
  },
  {
   "cell_type": "code",
   "execution_count": null,
   "outputs": [],
   "source": [
    "from sklift.viz import plot_uplift_by_percentile\n",
    "\n",
    "plot_uplift_by_percentile(target_test, uplift_sm, treatment_test)"
   ],
   "metadata": {
    "collapsed": false,
    "pycharm": {
     "name": "#%%\n"
    }
   }
  },
  {
   "cell_type": "code",
   "execution_count": null,
   "outputs": [],
   "source": [
    "sm_fi = pd.DataFrame({\n",
    "    'feature_name': sm.estimator.feature_names_,\n",
    "    'feature_score': sm.estimator.feature_importances_\n",
    "}).sort_values('feature_score', ascending=False).reset_index(drop=True)\n",
    "\n",
    "sm_fi"
   ],
   "metadata": {
    "collapsed": false,
    "pycharm": {
     "name": "#%%\n"
    }
   }
  },
  {
   "cell_type": "markdown",
   "source": [
    "## Class transform"
   ],
   "metadata": {
    "collapsed": false,
    "pycharm": {
     "name": "#%% md\n"
    }
   }
  },
  {
   "cell_type": "code",
   "execution_count": null,
   "outputs": [],
   "source": [
    "from sklift.models import ClassTransformation\n",
    "\n",
    "\n",
    "ct = ClassTransformation(CatBoostClassifier(iterations=500, task_type='GPU', random_state=42, silent=True))\n",
    "ct.fit(data_train, target_train, treatment_train, estimator_fit_params={'cat_features': ['womens', 'mens','channel', 'zip_code', 'history_segment', 'newbie']})\n",
    "\n",
    "uplift_ct = ct.predict(data_test)\n",
    "pd.Series(uplift_ct, index=data_test.index).to_csv('ct_cbc.csv')\n",
    "ct_score = uplift_at_k(y_true=target_test, uplift=uplift_ct, treatment=treatment_test, strategy='by_group', k=0.3)\n",
    "\n",
    "models_results['approach'].append('ClassTransformation')\n",
    "models_results['uplift@30%'].append(ct_score)\n"
   ],
   "metadata": {
    "collapsed": false,
    "pycharm": {
     "name": "#%%\n"
    }
   }
  },
  {
   "cell_type": "code",
   "execution_count": null,
   "outputs": [],
   "source": [
    "ct.estimator.save_model('models/ct_cbc.cbm')"
   ],
   "metadata": {
    "collapsed": false,
    "pycharm": {
     "name": "#%%\n"
    }
   }
  },
  {
   "cell_type": "markdown",
   "source": [
    "## Two independent models"
   ],
   "metadata": {
    "collapsed": false,
    "pycharm": {
     "name": "#%% md\n"
    }
   }
  },
  {
   "cell_type": "code",
   "execution_count": null,
   "outputs": [],
   "source": [
    "from sklift.models import TwoModels\n",
    "\n",
    "tm = TwoModels(\n",
    "    estimator_trmnt=CatBoostClassifier(iterations=500, task_type='GPU', random_state=42, silent=True),\n",
    "    estimator_ctrl=CatBoostClassifier(iterations=500, task_type='GPU', random_state=42, silent=True),\n",
    "    method='vanilla'\n",
    ")\n",
    "tm.fit(\n",
    "    data_train, target_train, treatment_train,\n",
    "    estimator_trmnt_fit_params={'cat_features': ['womens', 'mens','channel', 'zip_code', 'history_segment', 'newbie']},\n",
    "    estimator_ctrl_fit_params={'cat_features': ['womens', 'mens','channel', 'zip_code', 'history_segment', 'newbie']}\n",
    ")\n",
    "\n",
    "uplift_tm = tm.predict(data_test)\n",
    "pd.Series(uplift_tm, index=data_test.index).to_csv('tm_independend_cbc.csv')\n",
    "\n",
    "tm_score = uplift_at_k(y_true=target_test, uplift=uplift_tm, treatment=treatment_test, strategy='by_group', k=0.3)\n",
    "\n",
    "models_results['approach'].append('TwoModels')\n",
    "models_results['uplift@30%'].append(tm_score)\n",
    "\n",
    "plot_uplift_preds(trmnt_preds=tm.trmnt_preds_, ctrl_preds=tm.ctrl_preds_);"
   ],
   "metadata": {
    "collapsed": false,
    "pycharm": {
     "name": "#%%\n"
    }
   }
  },
  {
   "cell_type": "code",
   "execution_count": null,
   "outputs": [],
   "source": [
    "tm.estimator_ctrl.save_model('models/tm_ctrl_cbc.cbm')\n",
    "tm.estimator_trmnt.save_model('models/tm_trmnt_cbc.cbm')"
   ],
   "metadata": {
    "collapsed": false,
    "pycharm": {
     "name": "#%%\n"
    }
   }
  },
  {
   "cell_type": "markdown",
   "source": [
    "## Two dependend models"
   ],
   "metadata": {
    "collapsed": false,
    "pycharm": {
     "name": "#%% md\n"
    }
   }
  },
  {
   "cell_type": "code",
   "execution_count": null,
   "outputs": [],
   "source": [
    "tm_ctrl = TwoModels(\n",
    "    estimator_trmnt=CatBoostClassifier(iterations=500, task_type='GPU', random_state=42, silent=True),\n",
    "    estimator_ctrl=CatBoostClassifier(iterations=500, task_type='GPU', random_state=42, silent=True),\n",
    "    method='ddr_control'\n",
    ")\n",
    "\n",
    "tm_ctrl = tm_ctrl.fit(\n",
    "    data_train, target_train, treatment_train,\n",
    "    estimator_trmnt_fit_params={'cat_features': ['womens', 'mens','channel', 'zip_code', 'history_segment', 'newbie']},\n",
    "    estimator_ctrl_fit_params={'cat_features': ['womens', 'mens','channel', 'zip_code', 'history_segment', 'newbie']}\n",
    ")\n",
    "\n",
    "uplift_tm_ctrl = tm_ctrl.predict(data_test)\n",
    "pd.Series(uplift_tm_ctrl, index=data_test.index).to_csv('tm_dependend_cbc.csv')\n",
    "\n",
    "tm_ctrl_score = uplift_at_k(y_true=target_test, uplift=uplift_tm_ctrl, treatment=treatment_test, strategy='by_group', k=0.3)\n",
    "\n",
    "models_results['approach'].append('TwoModels_ddr_control')\n",
    "models_results['uplift@30%'].append(tm_ctrl_score)\n",
    "\n",
    "plot_uplift_preds(trmnt_preds=tm_ctrl.trmnt_preds_, ctrl_preds=tm_ctrl.ctrl_preds_);"
   ],
   "metadata": {
    "collapsed": false,
    "pycharm": {
     "name": "#%%\n"
    }
   }
  },
  {
   "cell_type": "code",
   "execution_count": null,
   "outputs": [],
   "source": [
    "pd.read_csv('model_predictions/ct_cbc.csv')"
   ],
   "metadata": {
    "collapsed": false,
    "pycharm": {
     "name": "#%%\n"
    }
   }
  },
  {
   "cell_type": "code",
   "execution_count": null,
   "outputs": [],
   "source": [
    "pd.Series(uplift_tm_ctrl, index=data_test.index).to_csv('tm_dependend_cbc.csv')"
   ],
   "metadata": {
    "collapsed": false,
    "pycharm": {
     "name": "#%%\n"
    }
   }
  },
  {
   "cell_type": "code",
   "execution_count": null,
   "outputs": [],
   "source": [
    "tm.estimator_ctrl.save_model('models/tm_dependend_ctrl_cbc.cbm')\n",
    "tm.estimator_trmnt.save_model('models/tm_dependend_trmnt_cbc.cbm')"
   ],
   "metadata": {
    "collapsed": false,
    "pycharm": {
     "name": "#%%\n"
    }
   }
  },
  {
   "cell_type": "code",
   "execution_count": null,
   "outputs": [],
   "source": [
    "from sklearn.ensemble import RandomForestClassifier\n",
    "from sklearn.preprocessing import OrdinalEncoder\n",
    "from sklearn.pipeline import make_pipeline\n",
    "\n",
    "pipeline_ctrl = make_pipeline(\n",
    "    OrdinalEncoder(categories=['channel', 'zip_code', 'history_segment']),\n",
    "    RandomForestClassifier(n_estimators=100, max_depth=5, random_state=42)\n",
    ")\n",
    "\n",
    "pipeline_trtmnt = make_pipeline(\n",
    "    OrdinalEncoder(categories=['channel', 'zip_code', 'history_segment']),\n",
    "    RandomForestClassifier(n_estimators=100, max_depth=5, random_state=42)\n",
    ")\n",
    "\n",
    "tm_ctrl = TwoModels(\n",
    "    estimator_trmnt=pipeline_ctrl,\n",
    "    estimator_ctrl=pipeline_trtmnt,\n",
    "    method='ddr_control'\n",
    ")\n",
    "\n",
    "tm_ctrl = tm_ctrl.fit(\n",
    "    data_train, target_train, treatment_train\n",
    ")\n",
    "\n",
    "uplift_tm_ctrl = tm_ctrl.predict(data_test)\n",
    "\n",
    "tm_ctrl_score = uplift_at_k(y_true=target_test, uplift=uplift_tm_ctrl, treatment=treatment_test, strategy='by_group', k=0.3)\n",
    "\n",
    "models_results['approach'].append('TwoModels_ddr_control')\n",
    "models_results['uplift@30%'].append(tm_ctrl_score)\n",
    "\n",
    "plot_uplift_preds(trmnt_preds=tm_ctrl.trmnt_preds_, ctrl_preds=tm_ctrl.ctrl_preds_);"
   ],
   "metadata": {
    "collapsed": false,
    "pycharm": {
     "name": "#%%\n"
    }
   }
  },
  {
   "cell_type": "code",
   "execution_count": null,
   "outputs": [],
   "source": [
    "pd.DataFrame([tm_ctrl.trmnt_preds_, uplift_tm_ctrl])"
   ],
   "metadata": {
    "collapsed": false,
    "pycharm": {
     "name": "#%%\n"
    }
   }
  },
  {
   "cell_type": "markdown",
   "source": [
    "## Results"
   ],
   "metadata": {
    "collapsed": false,
    "pycharm": {
     "name": "#%% md\n"
    }
   }
  },
  {
   "cell_type": "code",
   "execution_count": null,
   "outputs": [],
   "source": [
    "pd.DataFrame(data=models_results).sort_values('uplift@30%', ascending=False)"
   ],
   "metadata": {
    "collapsed": false,
    "pycharm": {
     "name": "#%%\n"
    }
   }
  },
  {
   "cell_type": "code",
   "execution_count": null,
   "outputs": [],
   "source": [
    "from sklift.viz import plot_uplift_by_percentile\n",
    "\n",
    "# line plot\n",
    "plot_uplift_by_percentile(target_test, uplift_ct, treatment_test, strategy='overall', kind='bar');"
   ],
   "metadata": {
    "collapsed": false,
    "pycharm": {
     "name": "#%%\n"
    }
   }
  },
  {
   "cell_type": "code",
   "execution_count": 40,
   "outputs": [
    {
     "data": {
      "text/plain": "                approach  uplift@30%\n0              SoloModel    0.077602\n3  TwoModels_ddr_control    0.073417\n2              TwoModels    0.073161\n1    ClassTransformation    0.066895",
      "text/html": "<div>\n<style scoped>\n    .dataframe tbody tr th:only-of-type {\n        vertical-align: middle;\n    }\n\n    .dataframe tbody tr th {\n        vertical-align: top;\n    }\n\n    .dataframe thead th {\n        text-align: right;\n    }\n</style>\n<table border=\"1\" class=\"dataframe\">\n  <thead>\n    <tr style=\"text-align: right;\">\n      <th></th>\n      <th>approach</th>\n      <th>uplift@30%</th>\n    </tr>\n  </thead>\n  <tbody>\n    <tr>\n      <th>0</th>\n      <td>SoloModel</td>\n      <td>0.077602</td>\n    </tr>\n    <tr>\n      <th>3</th>\n      <td>TwoModels_ddr_control</td>\n      <td>0.073417</td>\n    </tr>\n    <tr>\n      <th>2</th>\n      <td>TwoModels</td>\n      <td>0.073161</td>\n    </tr>\n    <tr>\n      <th>1</th>\n      <td>ClassTransformation</td>\n      <td>0.066895</td>\n    </tr>\n  </tbody>\n</table>\n</div>"
     },
     "execution_count": 40,
     "metadata": {},
     "output_type": "execute_result"
    }
   ],
   "source": [
    "pd.DataFrame(data=models_results).sort_values('uplift@30%', ascending=False)"
   ],
   "metadata": {
    "collapsed": false,
    "pycharm": {
     "name": "#%%\n"
    }
   }
  },
  {
   "cell_type": "code",
   "execution_count": 41,
   "outputs": [
    {
     "name": "stderr",
     "output_type": "stream",
     "text": [
      "P:\\uplift_lab\\venv\\lib\\site-packages\\numpy\\core\\fromnumeric.py:3156: VisibleDeprecationWarning: Creating an ndarray from ragged nested sequences (which is a list-or-tuple of lists-or-tuples-or ndarrays with different lengths or shapes) is deprecated. If you meant to do this, you must specify 'dtype=object' when creating the ndarray.\n",
      "  return asarray(a).ndim\n"
     ]
    },
    {
     "data": {
      "text/plain": "<Figure size 576x432 with 2 Axes>",
      "image/png": "[encoded data removed]"
     },
     "metadata": {
      "needs_background": "light"
     },
     "output_type": "display_data"
    }
   ],
   "source": [
    "from sklift.viz import plot_uplift_by_percentile\n",
    "\n",
    "# line plot\n",
    "plot_uplift_by_percentile(target_test, uplift_ct, treatment_test, strategy='overall', kind='bar');"
   ],
   "metadata": {
    "collapsed": false,
    "pycharm": {
     "name": "#%%\n"
    }
   }
  }
 ],
 "metadata": {
  "kernelspec": {
   "display_name": "Python 3",
   "language": "python",
   "name": "python3"
  },
  "language_info": {
   "codemirror_mode": {
    "name": "ipython",
    "version": 2
   },
   "file_extension": ".py",
   "mimetype": "text/x-python",
   "name": "python",
   "nbconvert_exporter": "python",
   "pygments_lexer": "ipython2",
   "version": "2.7.6"
  }
 },
 "nbformat": 4,
 "nbformat_minor": 0
}